{
  "nbformat": 4,
  "nbformat_minor": 0,
  "metadata": {
    "colab": {
      "provenance": [],
      "authorship_tag": "ABX9TyMPgaAxL09Y3gfxU8JJkHH+",
      "include_colab_link": true
    },
    "kernelspec": {
      "name": "python3",
      "display_name": "Python 3"
    },
    "language_info": {
      "name": "python"
    }
  },
  "cells": [
    {
      "cell_type": "markdown",
      "metadata": {
        "id": "view-in-github",
        "colab_type": "text"
      },
      "source": [
        "<a href=\"https://colab.research.google.com/github/rrl7012005/Reinforcement-Learning/blob/main/CartPole_with_Actor_Critic.ipynb\" target=\"_parent\"><img src=\"https://colab.research.google.com/assets/colab-badge.svg\" alt=\"Open In Colab\"/></a>"
      ]
    },
    {
      "cell_type": "markdown",
      "source": [
        "Actor critic method represent the policy function independent of the value function. The policy function returns a probability distribution over actions that an agent can take based on the given state. The value function determines the expected return for an agent starting at a given state and following a policy thereafter.\n",
        "\n",
        "In actor-critic, the policy function is the actor proposing a set of actions given a state, and the critic is the estimated value function, evaluating actions taken by the actor based on the given policy.\n",
        "\n",
        "In the CartPole environment, a pole is attached to a cart moving along a frictionless track, the pole is initially upright initially and the goal of the agent is to prevent it falling over by applying a force of -1 or +1 to the cart. +1 reward every time step the pole remains upright. The episode ends when the cart moves more than 2.4 units from the center or the pole is more than 15 degrees from the vertical.\n",
        "\n",
        "The problem is solved when the average total reward for the episode reaches 195 over 100 consecutive trials."
      ],
      "metadata": {
        "id": "ioFMoYnxGSWT"
      }
    },
    {
      "cell_type": "markdown",
      "source": [
        "#Initialization"
      ],
      "metadata": {
        "id": "TI_ZskQhNray"
      }
    },
    {
      "cell_type": "code",
      "execution_count": null,
      "metadata": {
        "colab": {
          "base_uri": "https://localhost:8080/"
        },
        "id": "xw4wdWiXGPIo",
        "outputId": "b5cbe2c2-99de-4fc7-df5a-becc84f8793d"
      },
      "outputs": [
        {
          "output_type": "stream",
          "name": "stdout",
          "text": [
            "Requirement already satisfied: gym[classic_control] in /usr/local/lib/python3.10/dist-packages (0.25.2)\n",
            "Requirement already satisfied: numpy>=1.18.0 in /usr/local/lib/python3.10/dist-packages (from gym[classic_control]) (1.26.4)\n",
            "Requirement already satisfied: cloudpickle>=1.2.0 in /usr/local/lib/python3.10/dist-packages (from gym[classic_control]) (2.2.1)\n",
            "Requirement already satisfied: gym-notices>=0.0.4 in /usr/local/lib/python3.10/dist-packages (from gym[classic_control]) (0.0.8)\n",
            "Collecting pygame==2.1.0 (from gym[classic_control])\n",
            "  Downloading pygame-2.1.0-cp310-cp310-manylinux_2_17_x86_64.manylinux2014_x86_64.whl.metadata (9.5 kB)\n",
            "Downloading pygame-2.1.0-cp310-cp310-manylinux_2_17_x86_64.manylinux2014_x86_64.whl (18.3 MB)\n",
            "\u001b[2K   \u001b[90m━━━━━━━━━━━━━━━━━━━━━━━━━━━━━━━━━━━━━━━━\u001b[0m \u001b[32m18.3/18.3 MB\u001b[0m \u001b[31m52.2 MB/s\u001b[0m eta \u001b[36m0:00:00\u001b[0m\n",
            "\u001b[?25hInstalling collected packages: pygame\n",
            "  Attempting uninstall: pygame\n",
            "    Found existing installation: pygame 2.6.0\n",
            "    Uninstalling pygame-2.6.0:\n",
            "      Successfully uninstalled pygame-2.6.0\n",
            "Successfully installed pygame-2.1.0\n",
            "Collecting pyglet\n",
            "  Downloading pyglet-2.0.17-py3-none-any.whl.metadata (7.9 kB)\n",
            "Downloading pyglet-2.0.17-py3-none-any.whl (936 kB)\n",
            "\u001b[2K   \u001b[90m━━━━━━━━━━━━━━━━━━━━━━━━━━━━━━━━━━━━━━━━\u001b[0m \u001b[32m936.6/936.6 kB\u001b[0m \u001b[31m10.0 MB/s\u001b[0m eta \u001b[36m0:00:00\u001b[0m\n",
            "\u001b[?25hInstalling collected packages: pyglet\n",
            "Successfully installed pyglet-2.0.17\n"
          ]
        }
      ],
      "source": [
        "!pip install gym[classic_control]\n",
        "!pip install pyglet\n",
        "\n",
        "#for visualization\n",
        "\n",
        "!sudo apt-get install -y pthon-opengl > /dev/null 2>&1\n",
        "!pip install git+https://github.com/tensorflow/docs > /dev/null 2>&1"
      ]
    },
    {
      "cell_type": "code",
      "source": [
        "import collections\n",
        "import gym\n",
        "import numpy as np\n",
        "import statistics\n",
        "import tensorflow as tf\n",
        "import tqdm\n",
        "\n",
        "from matplotlib import pyplot as plt\n",
        "from tensorflow.keras import layers\n",
        "from typing import Any, List, Sequence, Tuple\n",
        "\n",
        "#Make the environment\n",
        "\n",
        "env = gym.make('CartPole-v1')\n",
        "seed = 42\n",
        "tf.random.set_seed(seed)\n",
        "np.random.seed(seed)\n",
        "\n",
        "eps = np.finfo(np.float32).eps.item()"
      ],
      "metadata": {
        "colab": {
          "base_uri": "https://localhost:8080/"
        },
        "id": "1QdHoLsYJkT3",
        "outputId": "4ca7b011-97ad-4262-86a8-b98ccbcc976b"
      },
      "execution_count": null,
      "outputs": [
        {
          "output_type": "stream",
          "name": "stderr",
          "text": [
            "/usr/local/lib/python3.10/dist-packages/tensorflow/lite/python/util.py:55: DeprecationWarning: jax.xla_computation is deprecated. Please use the AOT APIs; see https://jax.readthedocs.io/en/latest/aot.html. For example, replace xla_computation(f)(*xs) with jit(f).lower(*xs).compiler_ir('hlo'). See CHANGELOG.md for 0.4.30 for more examples.\n",
            "  from jax import xla_computation as _xla_computation\n",
            "/usr/local/lib/python3.10/dist-packages/gym/core.py:317: DeprecationWarning: \u001b[33mWARN: Initializing wrapper in old step API which returns one bool instead of two. It is recommended to set `new_step_api=True` to use new step API. This will be the default behaviour in future.\u001b[0m\n",
            "  deprecation(\n",
            "/usr/local/lib/python3.10/dist-packages/gym/wrappers/step_api_compatibility.py:39: DeprecationWarning: \u001b[33mWARN: Initializing environment in old step API which returns one bool instead of two. It is recommended to set `new_step_api=True` to use new step API. This will be the default behaviour in future.\u001b[0m\n",
            "  deprecation(\n"
          ]
        }
      ]
    },
    {
      "cell_type": "markdown",
      "source": [
        "We will use Deep Reinforcement Learning. One neural net will generate the action probabilities and critic value respectively.\n",
        "\n",
        "During the forward pass the model will take the state as the input and will output the action probs and the critic value V, which models the state dependent value function. The goal is to train a model that chooses actions based on a policy (the NN weights and biases) that maximizes expected return.\n",
        "\n",
        "There are 4 dimensions to the state: the cart position, velocity, pole angle and pole velocity."
      ],
      "metadata": {
        "id": "FQItnFcnJ8rs"
      }
    },
    {
      "cell_type": "code",
      "source": [
        "class ActorCritic(tf.keras.Model):\n",
        "\n",
        "  def __init__(self, num_actions: int, num_hidden_units: int):\n",
        "    super().__init__()\n",
        "\n",
        "    self.common = layers.Dense(num_hidden_units, activation='relu')\n",
        "    self.actor = layers.Dense(num_actions)\n",
        "    self.critic = layers.Dense(1)\n",
        "\n",
        "  def call(self, inputs: tf.Tensor) -> Tuple[tf.Tensor, tf.Tensor]:\n",
        "    x = self.common(inputs)\n",
        "    return self.actor(x), self.critic(x)"
      ],
      "metadata": {
        "colab": {
          "base_uri": "https://localhost:8080/"
        },
        "id": "PDw8GZ_-J8MP",
        "outputId": "f4d21b82-92ba-45aa-fb72-4b26953160eb"
      },
      "execution_count": null,
      "outputs": [
        {
          "output_type": "stream",
          "name": "stderr",
          "text": [
            "/usr/local/lib/python3.10/dist-packages/ipykernel/ipkernel.py:283: DeprecationWarning: `should_run_async` will not call `transform_cell` automatically in the future. Please pass the result to `transformed_cell` argument and any exception that happen during thetransform in `preprocessing_exc_tuple` in IPython 7.17 and above.\n",
            "  and should_run_async(code)\n"
          ]
        }
      ]
    },
    {
      "cell_type": "markdown",
      "source": [
        "Only one hidden layer whose hidden units process both the policy function and the value function"
      ],
      "metadata": {
        "id": "LWTpRNJULjy9"
      }
    },
    {
      "cell_type": "code",
      "source": [
        "num_actions = env.action_space.n #2 (left, right)\n",
        "num_hidden_units = 128\n",
        "\n",
        "model = ActorCritic(num_actions, num_hidden_units)"
      ],
      "metadata": {
        "id": "mpv-p2QgLq89"
      },
      "execution_count": null,
      "outputs": []
    },
    {
      "cell_type": "markdown",
      "source": [
        "#Training"
      ],
      "metadata": {
        "id": "K0GH7g01Nofu"
      }
    },
    {
      "cell_type": "markdown",
      "source": [
        "We need to run the agent on the environment to collect training data per episode. Then at each time step, the model's forward pass will be run on the environment's state in order to generate action probabilities and the critic value based on the current policy parameterized by the model's weights.\n",
        "\n",
        "The next action will be sampled from the probabilities which will be applied to the environment etc.\n",
        "\n",
        "We need to keep this in tensorflow operations so we use graphs."
      ],
      "metadata": {
        "id": "uIRDIwRXNtVa"
      }
    },
    {
      "cell_type": "code",
      "source": [
        "@tf.numpy_function(Tout=[tf.float32, tf.int32, tf.int32])\n",
        "def env_step(action: np.ndarray) -> Tuple[np.ndarray, np.ndarray, np.ndarray]:\n",
        "\n",
        "  state, reward, done, truncated = env.step(action)\n",
        "  return (state.astype(np.float32),\n",
        "          np.array(reward, np.int32),\n",
        "          np.array(done, np.int32))"
      ],
      "metadata": {
        "id": "hlO14HduOMvR"
      },
      "execution_count": null,
      "outputs": []
    },
    {
      "cell_type": "code",
      "source": [
        "def run_episode(initial_state: tf.Tensor, model: tf.keras.Model, max_steps: int) -> Tuple[tf.Tensor, tf.Tensor, tf.Tensor]:\n",
        "\n",
        "  action_probs = tf.TensorArray(dtype=tf.float32, size=0, dynamic_size=True)\n",
        "  values = tf.TensorArray(dtype=tf.float32, size=0, dynamic_size=True)\n",
        "  rewards = tf.TensorArray(dtype=tf.int32, size=0, dynamic_size=True)\n",
        "\n",
        "  initial_state_shape = initial_state.shape\n",
        "  state = initial_state\n",
        "\n",
        "  for t in tf.range(max_steps):\n",
        "    state = tf.expand_dims(state, 0) #batch it\n",
        "    action_logits_t, value = model(state)\n",
        "\n",
        "    action = tf.random.categorical(action_logits_t, 1)[0, 0]\n",
        "    action_probs_t = tf.nn.softmax(action_logits_t)\n",
        "\n",
        "    values = values.write(t, tf.squeeze(value))\n",
        "\n",
        "    action_probs = action_probs.write(t, action_probs_t[0, action])\n",
        "\n",
        "    state, reward, done = env_step(action)\n",
        "    state.set_shape(initial_state_shape)\n",
        "\n",
        "    rewards = rewards.write(t, reward)\n",
        "\n",
        "    if tf.cast(done, tf.bool):\n",
        "      break\n",
        "\n",
        "  action_probs = action_probs.stack()\n",
        "  values = values.stack()\n",
        "  rewards = rewards.stack()\n",
        "\n",
        "  return action_probs, values, rewards"
      ],
      "metadata": {
        "id": "InyQ5z8HOfRX"
      },
      "execution_count": null,
      "outputs": []
    },
    {
      "cell_type": "markdown",
      "source": [
        "The sequence of rewards for each timestep t, collected during one episode is converted into a sequence of expected returns in which the sumof rewards is taken from the current timestep t to T(the last) and the reward is multiplied with an exponentially decaying discount factor gamma so rewards further out are given less weight.\n",
        "\n",
        "Expected return simply implies rewards now are better than rewards later, also mathematically its to ensure the sum of rewards converges.\n",
        "\n",
        "To stabilize training, the resulting sequence of returns is also standardized.\n",
        "\n",
        "$G_{t} = \\sum^{T}_{t'=t} \\gamma^{t'-t}r_{t'}$\n"
      ],
      "metadata": {
        "id": "aBOJQIEvQANv"
      }
    },
    {
      "cell_type": "code",
      "source": [
        "def get_expected_return(rewards: tf.Tensor, gamma: float, standardize: bool=True) -> tf.Tensor:\n",
        "\n",
        "  n = tf.shape(rewards)[0]\n",
        "  returns = tf.TensorArray(dtype=tf.float32, size=n)\n",
        "\n",
        "  rewards = tf.cast(rewards[::-1], dtype=tf.float32) #start from the end and accumulate rewards\n",
        "  discounted_sum = tf.constant(0.0)\n",
        "  discounted_sum_shape = discounted_sum.shape\n",
        "\n",
        "  for i in tf.range(n):\n",
        "    reward = rewards[i]\n",
        "    discounted_sum = reward + gamma * discounted_sum\n",
        "    discounted_sum.set_shape(discounted_sum_shape)\n",
        "    returns = returns.write(i, discounted_sum)\n",
        "\n",
        "  returns = returns.stack()[::-1]\n",
        "\n",
        "  if standardize:\n",
        "    returns = ((returns - tf.math.reduce_mean(returns)) / (tf.math.reduce_std(returns) + eps))\n",
        "\n",
        "  return returns"
      ],
      "metadata": {
        "id": "KisMrCAoQy_p"
      },
      "execution_count": null,
      "outputs": []
    },
    {
      "cell_type": "markdown",
      "source": [
        "We are using a hybrid actor critic model, so the chosen loss function is a combination of Actor and Critic losses for training.\n",
        "\n",
        "L = L_actor + L_critic\n",
        "\n",
        "The actor loss is based on policy gradients with the critic as a state dependent baseline and computed with single sample per episode estimates.\n",
        "\n",
        "$L_{actor} = -\\sum^{T}_{t=1} \\log\\pi_{\\theta}(a_{t} | s_{t})[G(s_{t}, a_{t})  - V^{\\pi}_{\\theta}(s_{t})]$\n",
        "\n",
        "T: the number of timesteps per episode  \n",
        "s_t: the state at timestep t  \n",
        "a_t: chosen action at timestep t given state s  \n",
        "pi_theta: the policy parameterized by theta  \n",
        "V: value function parameterized by theta  \n",
        "G = G_t: the expected return for a given state, action pair at timestep 5\n",
        "\n",
        "A negative term is added to the sum since the idea is to maximize probabilities of actions yielding higher rewards by minimizing the combined loss.\n",
        "\n",
        "The G-V term in the L_actor term is called the Advantage which indicates how much better an action is given a particular state over a random action selected according to the policy pi for that state. We could exclude the baseline, but this will cause high variance during training, also choosing the critic V as a baseline so it is trained to be as close as possible to G, leading to a lower variance.\n",
        "\n",
        "Without the critic, the algorithm may try to increase probabilities for actions taken on a particular state based on expected return which may not make much of a difference if the relative probabilities between actions remain the same. For instance suppose 2 actions for a given state would yield the same expected return. Without the critic, the algorithm would try to raise the probability of these actions based on the objective J. With the critic, it may turn out that there is no advantage (G-V=0) and thus no benefit gained in increasing the actions' probabilities and the algorithm would set the gradients to zero.\n"
      ],
      "metadata": {
        "id": "mL8OHgBjReyN"
      }
    },
    {
      "cell_type": "markdown",
      "source": [
        "The critic loss is training V to be as close as possible G, it can set up as a regression problem with the huber loss function.\n",
        "\n",
        "$L_{critic} = L_{\\delta}(G, V^{\\pi}_{\\theta})$"
      ],
      "metadata": {
        "id": "YvTQvac3SI85"
      }
    },
    {
      "cell_type": "code",
      "source": [
        "huber_loss = tf.keras.losses.Huber(reduction=tf.keras.losses.Reduction.SUM)\n",
        "\n",
        "def compute_loss(action_probs: tf.Tensor, values: tf.Tensor, returns: tf.Tensor) -> tf.Tensor:\n",
        "\n",
        "  advantage = returns - values\n",
        "\n",
        "  action_log_probs = tf.math.log(action_probs)\n",
        "  actor_loss = -tf.math.reduce_sum(action_log_probs * advantage)\n",
        "\n",
        "  critic_loss = huber_loss(values, returns)\n",
        "\n",
        "  return actor_loss + critic_loss"
      ],
      "metadata": {
        "id": "bW0orY7pV5fN"
      },
      "execution_count": null,
      "outputs": []
    },
    {
      "cell_type": "markdown",
      "source": [
        "Define a training step, we use tf.GradientTape to enable automatic differentiation.\n",
        "\n",
        "episode_reward is the sum of the undiscounted rewards.  \n"
      ],
      "metadata": {
        "id": "DPUEMLJnW1xY"
      }
    },
    {
      "cell_type": "code",
      "source": [
        "@tf.function\n",
        "def train_step(initial_state: tf.Tensor, model: tf.keras.Model,\n",
        "               optimizer: tf.keras.optimizers.Optimizer,\n",
        "               gamma: float, max_steps_per_episode: int) -> tf.Tensor:\n",
        "\n",
        "  with tf.GradientTape() as tape:\n",
        "\n",
        "    action_probs, values, rewards = run_episode(initial_state, model,\n",
        "                                                max_steps_per_episode)\n",
        "\n",
        "    returns = get_expected_return(rewards, gamma)\n",
        "\n",
        "    action_probs, values, returns = [\n",
        "        tf.expand_dims(x, 1) for x in [action_probs, values, returns]]\n",
        "\n",
        "    loss = compute_loss(action_probs, values, returns)\n",
        "\n",
        "  grads = tape.gradient(loss, model.trainable_variables)\n",
        "  optimizer.apply_gradients(zip(grads, model.trainable_variables))\n",
        "\n",
        "  episode_reward = tf.math.reduce_sum(rewards)\n",
        "\n",
        "  return episode_reward\n"
      ],
      "metadata": {
        "id": "qWwJdJXBXXBV"
      },
      "execution_count": null,
      "outputs": []
    },
    {
      "cell_type": "markdown",
      "source": [
        "Training is executed until the success criterion or maximum number of episodes is reached.\n",
        "\n",
        "A record of episode rewards is kept in a queue. Once 100 trials are reached, the oldest reward is removed at the left end of the queue and the newest one is added at the head."
      ],
      "metadata": {
        "id": "Y4Ho4klYYXTd"
      }
    },
    {
      "cell_type": "code",
      "source": [
        "%%time\n",
        "\n",
        "min_episodes_criterion = 100\n",
        "max_episodes = 10000\n",
        "max_steps_per_episode = 500\n",
        "\n",
        "reward_threshold = 475\n",
        "running_reward = 0\n",
        "\n",
        "gamma = 0.99\n",
        "\n",
        "optimizer = tf.keras.optimizers.Adam(learning_rate=0.01)\n",
        "\n",
        "episodes_reward: collections.deque = collections.deque(maxlen=min_episodes_criterion)\n",
        "\n",
        "t = tqdm.trange(max_episodes)\n",
        "for i in t:\n",
        "  initial_state = env.reset()\n",
        "  initial_state = tf.constant(initial_state, dtype=tf.float32)\n",
        "  episode_reward = int(train_step(\n",
        "      initial_state, model, optimizer, gamma, max_steps_per_episode))\n",
        "\n",
        "  episodes_reward.append(episode_reward)\n",
        "  running_reward = statistics.mean(episodes_reward)\n",
        "\n",
        "  t.set_postfix(episode_reward=episode_reward, running_reward=running_reward)\n",
        "\n",
        "  if i % 10 == 0:\n",
        "      pass # print(f'Episode {i}: average reward: {avg_reward}')\n",
        "\n",
        "  if running_reward > reward_threshold and i >= min_episodes_criterion:\n",
        "      break\n",
        "\n",
        "  print(f'Solved at episode {i}: average reward: {running_reward:.2f}!')\n"
      ],
      "metadata": {
        "colab": {
          "base_uri": "https://localhost:8080/"
        },
        "id": "spv49tziYUyZ",
        "outputId": "991a812d-a488-4b6a-8bb8-3e672bbdb4f3"
      },
      "execution_count": null,
      "outputs": [
        {
          "output_type": "stream",
          "name": "stderr",
          "text": [
            "  0%|          | 8/10000 [00:02<38:11,  4.36it/s, episode_reward=24, running_reward=20.2]"
          ]
        },
        {
          "output_type": "stream",
          "name": "stdout",
          "text": [
            "Solved at episode 0: average reward: 32.00!\n",
            "Solved at episode 1: average reward: 33.00!\n",
            "Solved at episode 2: average reward: 26.67!\n",
            "Solved at episode 3: average reward: 22.25!\n",
            "Solved at episode 4: average reward: 21.20!\n",
            "Solved at episode 5: average reward: 19.33!\n",
            "Solved at episode 6: average reward: 19.71!\n",
            "Solved at episode 7: average reward: 19.62!\n",
            "Solved at episode 8: average reward: 21.56!\n",
            "Solved at episode 9: average reward: 20.80!\n",
            "Solved at episode 10: average reward: 21.36!\n",
            "Solved at episode 11: average reward: 20.42!\n",
            "Solved at episode 12: average reward: 19.92!\n",
            "Solved at episode 13: average reward: 20.21!\n"
          ]
        },
        {
          "output_type": "stream",
          "name": "stderr",
          "text": [
            "  0%|          | 21/10000 [00:02<11:54, 13.96it/s, episode_reward=14, running_reward=20.4]"
          ]
        },
        {
          "output_type": "stream",
          "name": "stdout",
          "text": [
            "Solved at episode 14: average reward: 21.47!\n",
            "Solved at episode 15: average reward: 21.00!\n",
            "Solved at episode 16: average reward: 21.88!\n",
            "Solved at episode 17: average reward: 22.22!\n",
            "Solved at episode 18: average reward: 21.89!\n",
            "Solved at episode 19: average reward: 21.80!\n",
            "Solved at episode 20: average reward: 21.95!\n",
            "Solved at episode 21: average reward: 21.68!\n",
            "Solved at episode 22: average reward: 21.48!\n",
            "Solved at episode 23: average reward: 21.12!\n",
            "Solved at episode 24: average reward: 20.96!\n",
            "Solved at episode 25: average reward: 20.62!\n",
            "Solved at episode 26: average reward: 20.37!\n"
          ]
        },
        {
          "output_type": "stream",
          "name": "stderr",
          "text": [
            "  0%|          | 35/10000 [00:02<06:10, 26.91it/s, episode_reward=45, running_reward=24.5] "
          ]
        },
        {
          "output_type": "stream",
          "name": "stdout",
          "text": [
            "Solved at episode 27: average reward: 21.00!\n",
            "Solved at episode 28: average reward: 20.69!\n",
            "Solved at episode 29: average reward: 20.33!\n",
            "Solved at episode 30: average reward: 20.68!\n",
            "Solved at episode 31: average reward: 21.72!\n",
            "Solved at episode 32: average reward: 21.85!\n",
            "Solved at episode 33: average reward: 21.56!\n",
            "Solved at episode 34: average reward: 21.69!\n",
            "Solved at episode 35: average reward: 23.89!\n",
            "Solved at episode 36: average reward: 24.46!\n"
          ]
        },
        {
          "output_type": "stream",
          "name": "stderr",
          "text": [
            "  0%|          | 41/10000 [00:03<05:49, 28.51it/s, episode_reward=133, running_reward=29.2]"
          ]
        },
        {
          "output_type": "stream",
          "name": "stdout",
          "text": [
            "Solved at episode 37: average reward: 24.89!\n",
            "Solved at episode 38: average reward: 26.82!\n",
            "Solved at episode 39: average reward: 26.55!\n",
            "Solved at episode 40: average reward: 26.20!\n",
            "Solved at episode 41: average reward: 26.69!\n",
            "Solved at episode 42: average reward: 29.16!\n"
          ]
        },
        {
          "output_type": "stream",
          "name": "stderr",
          "text": [
            "  0%|          | 47/10000 [00:03<06:09, 26.91it/s, episode_reward=36, running_reward=31.2]"
          ]
        },
        {
          "output_type": "stream",
          "name": "stdout",
          "text": [
            "Solved at episode 43: average reward: 29.23!\n",
            "Solved at episode 44: average reward: 31.22!\n",
            "Solved at episode 45: average reward: 30.91!\n",
            "Solved at episode 46: average reward: 31.53!\n",
            "Solved at episode 47: average reward: 31.23!\n",
            "Solved at episode 48: average reward: 31.12!\n",
            "Solved at episode 49: average reward: 31.22!\n"
          ]
        },
        {
          "output_type": "stream",
          "name": "stderr",
          "text": [
            "  1%|          | 57/10000 [00:03<05:20, 31.01it/s, episode_reward=40, running_reward=33.5]"
          ]
        },
        {
          "output_type": "stream",
          "name": "stdout",
          "text": [
            "Solved at episode 50: average reward: 32.67!\n",
            "Solved at episode 51: average reward: 33.06!\n",
            "Solved at episode 52: average reward: 32.85!\n",
            "Solved at episode 53: average reward: 32.74!\n",
            "Solved at episode 54: average reward: 32.85!\n",
            "Solved at episode 55: average reward: 33.30!\n",
            "Solved at episode 56: average reward: 33.32!\n",
            "Solved at episode 57: average reward: 33.36!\n",
            "Solved at episode 58: average reward: 33.47!\n"
          ]
        },
        {
          "output_type": "stream",
          "name": "stderr",
          "text": [
            "  1%|          | 62/10000 [00:03<05:46, 28.71it/s, episode_reward=79, running_reward=35.7]"
          ]
        },
        {
          "output_type": "stream",
          "name": "stdout",
          "text": [
            "Solved at episode 59: average reward: 33.58!\n",
            "Solved at episode 60: average reward: 34.16!\n",
            "Solved at episode 61: average reward: 35.16!\n",
            "Solved at episode 62: average reward: 35.03!\n",
            "Solved at episode 63: average reward: 35.72!\n"
          ]
        },
        {
          "output_type": "stream",
          "name": "stderr",
          "text": [
            "  1%|          | 66/10000 [00:04<07:06, 23.27it/s, episode_reward=176, running_reward=39.4]"
          ]
        },
        {
          "output_type": "stream",
          "name": "stdout",
          "text": [
            "Solved at episode 64: average reward: 37.31!\n",
            "Solved at episode 65: average reward: 39.41!\n"
          ]
        },
        {
          "output_type": "stream",
          "name": "stderr",
          "text": [
            "  1%|          | 69/10000 [00:04<08:44, 18.95it/s, episode_reward=47, running_reward=44.9]"
          ]
        },
        {
          "output_type": "stream",
          "name": "stdout",
          "text": [
            "Solved at episode 66: average reward: 43.72!\n",
            "Solved at episode 67: average reward: 43.91!\n",
            "Solved at episode 68: average reward: 44.10!\n",
            "Solved at episode 69: average reward: 44.09!\n",
            "Solved at episode 70: average reward: 44.83!\n"
          ]
        },
        {
          "output_type": "stream",
          "name": "stderr",
          "text": [
            "  1%|          | 76/10000 [00:04<07:23, 22.37it/s, episode_reward=21, running_reward=44.6]"
          ]
        },
        {
          "output_type": "stream",
          "name": "stdout",
          "text": [
            "Solved at episode 71: average reward: 44.86!\n",
            "Solved at episode 72: average reward: 45.16!\n",
            "Solved at episode 73: average reward: 44.92!\n",
            "Solved at episode 74: average reward: 44.75!\n",
            "Solved at episode 75: average reward: 44.89!\n",
            "Solved at episode 76: average reward: 44.58!\n"
          ]
        },
        {
          "output_type": "stream",
          "name": "stderr",
          "text": [
            "  1%|          | 84/10000 [00:04<06:03, 27.28it/s, episode_reward=42, running_reward=44.6]"
          ]
        },
        {
          "output_type": "stream",
          "name": "stdout",
          "text": [
            "Solved at episode 77: average reward: 45.62!\n",
            "Solved at episode 78: average reward: 45.32!\n",
            "Solved at episode 79: average reward: 45.21!\n",
            "Solved at episode 80: average reward: 44.96!\n",
            "Solved at episode 81: average reward: 44.71!\n",
            "Solved at episode 82: average reward: 44.47!\n",
            "Solved at episode 83: average reward: 44.62!\n",
            "Solved at episode 84: average reward: 44.60!\n"
          ]
        },
        {
          "output_type": "stream",
          "name": "stderr",
          "text": [
            "  1%|          | 87/10000 [00:05<07:02, 23.46it/s, episode_reward=251, running_reward=46.9]"
          ]
        },
        {
          "output_type": "stream",
          "name": "stdout",
          "text": [
            "Solved at episode 85: average reward: 44.57!\n",
            "Solved at episode 86: average reward: 46.94!\n"
          ]
        },
        {
          "output_type": "stream",
          "name": "stderr",
          "text": [
            "  1%|          | 90/10000 [00:05<07:44, 21.32it/s, episode_reward=36, running_reward=48.4] "
          ]
        },
        {
          "output_type": "stream",
          "name": "stdout",
          "text": [
            "Solved at episode 87: average reward: 47.50!\n",
            "Solved at episode 88: average reward: 47.52!\n",
            "Solved at episode 89: average reward: 47.56!\n",
            "Solved at episode 90: average reward: 48.51!\n",
            "Solved at episode 91: average reward: 48.37!\n"
          ]
        },
        {
          "output_type": "stream",
          "name": "stderr",
          "text": [
            "  1%|          | 96/10000 [00:05<08:59, 18.37it/s, episode_reward=22, running_reward=50.9]"
          ]
        },
        {
          "output_type": "stream",
          "name": "stdout",
          "text": [
            "Solved at episode 92: average reward: 49.89!\n",
            "Solved at episode 93: average reward: 50.52!\n",
            "Solved at episode 94: average reward: 51.22!\n",
            "Solved at episode 95: average reward: 50.92!\n"
          ]
        },
        {
          "output_type": "stream",
          "name": "stderr",
          "text": [
            "  1%|          | 99/10000 [00:05<08:39, 19.06it/s, episode_reward=45, running_reward=51.4]"
          ]
        },
        {
          "output_type": "stream",
          "name": "stdout",
          "text": [
            "Solved at episode 96: average reward: 51.08!\n",
            "Solved at episode 97: average reward: 51.42!\n",
            "Solved at episode 98: average reward: 51.38!\n",
            "Solved at episode 99: average reward: 51.13!\n",
            "Solved at episode 100: average reward: 51.14!\n",
            "Solved at episode 101: average reward: 51.13!\n",
            "Solved at episode 102: average reward: 51.44!\n"
          ]
        },
        {
          "output_type": "stream",
          "name": "stderr",
          "text": [
            "  1%|          | 107/10000 [00:06<06:45, 24.39it/s, episode_reward=99, running_reward=53.8]"
          ]
        },
        {
          "output_type": "stream",
          "name": "stdout",
          "text": [
            "Solved at episode 103: average reward: 51.78!\n",
            "Solved at episode 104: average reward: 52.42!\n",
            "Solved at episode 105: average reward: 52.72!\n",
            "Solved at episode 106: average reward: 53.02!\n",
            "Solved at episode 107: average reward: 53.82!\n"
          ]
        },
        {
          "output_type": "stream",
          "name": "stderr",
          "text": [
            "  1%|          | 113/10000 [00:06<07:05, 23.22it/s, episode_reward=116, running_reward=55]"
          ]
        },
        {
          "output_type": "stream",
          "name": "stdout",
          "text": [
            "Solved at episode 108: average reward: 53.66!\n",
            "Solved at episode 109: average reward: 53.81!\n",
            "Solved at episode 110: average reward: 53.89!\n",
            "Solved at episode 111: average reward: 54.01!\n",
            "Solved at episode 112: average reward: 55.03!\n"
          ]
        },
        {
          "output_type": "stream",
          "name": "stderr",
          "text": [
            "  1%|          | 116/10000 [00:06<08:31, 19.31it/s, episode_reward=54, running_reward=57.7]"
          ]
        },
        {
          "output_type": "stream",
          "name": "stdout",
          "text": [
            "Solved at episode 113: average reward: 55.99!\n",
            "Solved at episode 114: average reward: 56.80!\n",
            "Solved at episode 115: average reward: 57.52!\n",
            "Solved at episode 116: average reward: 57.70!\n"
          ]
        },
        {
          "output_type": "stream",
          "name": "stderr",
          "text": [
            "  1%|          | 122/10000 [00:06<07:52, 20.92it/s, episode_reward=82, running_reward=59.6]"
          ]
        },
        {
          "output_type": "stream",
          "name": "stdout",
          "text": [
            "Solved at episode 117: average reward: 57.87!\n",
            "Solved at episode 118: average reward: 58.07!\n",
            "Solved at episode 119: average reward: 58.38!\n",
            "Solved at episode 120: average reward: 58.96!\n",
            "Solved at episode 121: average reward: 59.62!\n"
          ]
        },
        {
          "output_type": "stream",
          "name": "stderr",
          "text": [
            "  1%|▏         | 125/10000 [00:06<09:20, 17.61it/s, episode_reward=143, running_reward=62.9]"
          ]
        },
        {
          "output_type": "stream",
          "name": "stdout",
          "text": [
            "Solved at episode 122: average reward: 60.45!\n",
            "Solved at episode 123: average reward: 61.65!\n",
            "Solved at episode 124: average reward: 62.91!\n"
          ]
        },
        {
          "output_type": "stream",
          "name": "stderr",
          "text": [
            "  1%|▏         | 129/10000 [00:07<09:57, 16.52it/s, episode_reward=100, running_reward=65.8]"
          ]
        },
        {
          "output_type": "stream",
          "name": "stdout",
          "text": [
            "Solved at episode 125: average reward: 63.62!\n",
            "Solved at episode 126: average reward: 64.33!\n",
            "Solved at episode 127: average reward: 64.93!\n",
            "Solved at episode 128: average reward: 65.81!\n"
          ]
        },
        {
          "output_type": "stream",
          "name": "stderr",
          "text": [
            "  1%|▏         | 131/10000 [00:07<11:43, 14.03it/s, episode_reward=127, running_reward=69]  "
          ]
        },
        {
          "output_type": "stream",
          "name": "stdout",
          "text": [
            "Solved at episode 129: average reward: 66.94!\n",
            "Solved at episode 130: average reward: 68.28!\n",
            "Solved at episode 131: average reward: 69.01!\n"
          ]
        },
        {
          "output_type": "stream",
          "name": "stderr",
          "text": [
            "  1%|▏         | 135/10000 [00:07<12:16, 13.39it/s, episode_reward=176, running_reward=73.1]"
          ]
        },
        {
          "output_type": "stream",
          "name": "stdout",
          "text": [
            "Solved at episode 132: average reward: 70.27!\n",
            "Solved at episode 133: average reward: 71.57!\n",
            "Solved at episode 134: average reward: 73.07!\n"
          ]
        },
        {
          "output_type": "stream",
          "name": "stderr",
          "text": [
            "  1%|▏         | 137/10000 [00:07<12:17, 13.37it/s, episode_reward=124, running_reward=75.7]"
          ]
        },
        {
          "output_type": "stream",
          "name": "stdout",
          "text": [
            "Solved at episode 135: average reward: 73.94!\n",
            "Solved at episode 136: average reward: 74.85!\n",
            "Solved at episode 137: average reward: 75.68!\n"
          ]
        },
        {
          "output_type": "stream",
          "name": "stderr",
          "text": [
            "  1%|▏         | 141/10000 [00:08<13:45, 11.94it/s, episode_reward=230, running_reward=80.8]"
          ]
        },
        {
          "output_type": "stream",
          "name": "stdout",
          "text": [
            "Solved at episode 138: average reward: 76.79!\n",
            "Solved at episode 139: average reward: 78.58!\n",
            "Solved at episode 140: average reward: 80.76!\n"
          ]
        },
        {
          "output_type": "stream",
          "name": "stderr",
          "text": [
            "\r  1%|▏         | 141/10000 [00:08<13:45, 11.94it/s, episode_reward=201, running_reward=82.3]"
          ]
        },
        {
          "output_type": "stream",
          "name": "stdout",
          "text": [
            "Solved at episode 141: average reward: 82.30!\n"
          ]
        },
        {
          "output_type": "stream",
          "name": "stderr",
          "text": [
            "  1%|▏         | 143/10000 [00:08<17:13,  9.54it/s, episode_reward=274, running_reward=88.4]"
          ]
        },
        {
          "output_type": "stream",
          "name": "stdout",
          "text": [
            "Solved at episode 142: average reward: 85.97!\n",
            "Solved at episode 143: average reward: 88.39!\n"
          ]
        },
        {
          "output_type": "stream",
          "name": "stderr",
          "text": [
            "  1%|▏         | 146/10000 [00:09<20:06,  8.16it/s, episode_reward=231, running_reward=94.3]"
          ]
        },
        {
          "output_type": "stream",
          "name": "stdout",
          "text": [
            "Solved at episode 144: average reward: 92.20!\n",
            "Solved at episode 145: average reward: 94.34!\n"
          ]
        },
        {
          "output_type": "stream",
          "name": "stderr",
          "text": [
            "  1%|▏         | 149/10000 [00:09<17:07,  9.59it/s, episode_reward=153, running_reward=100] "
          ]
        },
        {
          "output_type": "stream",
          "name": "stdout",
          "text": [
            "Solved at episode 146: average reward: 96.56!\n",
            "Solved at episode 147: average reward: 97.61!\n",
            "Solved at episode 148: average reward: 98.86!\n",
            "Solved at episode 149: average reward: 100.03!\n"
          ]
        },
        {
          "output_type": "stream",
          "name": "stderr",
          "text": [
            "  2%|▏         | 153/10000 [00:09<15:16, 10.74it/s, episode_reward=227, running_reward=104]"
          ]
        },
        {
          "output_type": "stream",
          "name": "stdout",
          "text": [
            "Solved at episode 150: average reward: 100.77!\n",
            "Solved at episode 151: average reward: 101.81!\n",
            "Solved at episode 152: average reward: 103.86!\n"
          ]
        },
        {
          "output_type": "stream",
          "name": "stderr",
          "text": [
            "\r  2%|▏         | 153/10000 [00:09<15:16, 10.74it/s, episode_reward=486, running_reward=108]"
          ]
        },
        {
          "output_type": "stream",
          "name": "stdout",
          "text": [
            "Solved at episode 153: average reward: 108.45!\n"
          ]
        },
        {
          "output_type": "stream",
          "name": "stderr",
          "text": [
            "  2%|▏         | 157/10000 [00:10<19:51,  8.26it/s, episode_reward=239, running_reward=116]"
          ]
        },
        {
          "output_type": "stream",
          "name": "stdout",
          "text": [
            "Solved at episode 154: average reward: 113.06!\n",
            "Solved at episode 155: average reward: 113.83!\n",
            "Solved at episode 156: average reward: 115.88!\n"
          ]
        },
        {
          "output_type": "stream",
          "name": "stderr",
          "text": [
            "  2%|▏         | 160/10000 [00:10<19:39,  8.34it/s, episode_reward=224, running_reward=123]"
          ]
        },
        {
          "output_type": "stream",
          "name": "stdout",
          "text": [
            "Solved at episode 157: average reward: 120.52!\n",
            "Solved at episode 158: average reward: 121.58!\n",
            "Solved at episode 159: average reward: 123.42!\n"
          ]
        },
        {
          "output_type": "stream",
          "name": "stderr",
          "text": [
            "\r  2%|▏         | 160/10000 [00:10<19:39,  8.34it/s, episode_reward=87, running_reward=124] "
          ]
        },
        {
          "output_type": "stream",
          "name": "stdout",
          "text": [
            "Solved at episode 160: average reward: 123.60!\n"
          ]
        },
        {
          "output_type": "stream",
          "name": "stderr",
          "text": [
            "  2%|▏         | 162/10000 [00:10<20:21,  8.06it/s, episode_reward=91, running_reward=128] "
          ]
        },
        {
          "output_type": "stream",
          "name": "stdout",
          "text": [
            "Solved at episode 161: average reward: 127.60!\n",
            "Solved at episode 162: average reward: 128.24!\n"
          ]
        },
        {
          "output_type": "stream",
          "name": "stderr",
          "text": [
            "  2%|▏         | 165/10000 [00:11<22:21,  7.33it/s, episode_reward=455, running_reward=135]"
          ]
        },
        {
          "output_type": "stream",
          "name": "stdout",
          "text": [
            "Solved at episode 163: average reward: 131.46!\n",
            "Solved at episode 164: average reward: 134.62!\n"
          ]
        },
        {
          "output_type": "stream",
          "name": "stderr",
          "text": [
            "  2%|▏         | 166/10000 [00:11<25:13,  6.50it/s, episode_reward=182, running_reward=136]"
          ]
        },
        {
          "output_type": "stream",
          "name": "stdout",
          "text": [
            "Solved at episode 165: average reward: 137.86!\n",
            "Solved at episode 166: average reward: 136.40!\n"
          ]
        },
        {
          "output_type": "stream",
          "name": "stderr",
          "text": [
            "  2%|▏         | 169/10000 [00:12<24:57,  6.57it/s, episode_reward=338, running_reward=144]"
          ]
        },
        {
          "output_type": "stream",
          "name": "stdout",
          "text": [
            "Solved at episode 167: average reward: 140.83!\n",
            "Solved at episode 168: average reward: 143.64!\n"
          ]
        },
        {
          "output_type": "stream",
          "name": "stderr",
          "text": [
            "  2%|▏         | 172/10000 [00:12<19:29,  8.40it/s, episode_reward=36, running_reward=147]"
          ]
        },
        {
          "output_type": "stream",
          "name": "stdout",
          "text": [
            "Solved at episode 169: average reward: 144.65!\n",
            "Solved at episode 170: average reward: 143.91!\n",
            "Solved at episode 171: average reward: 146.96!\n",
            "Solved at episode 172: average reward: 146.50!\n"
          ]
        },
        {
          "output_type": "stream",
          "name": "stderr",
          "text": [
            "  2%|▏         | 178/10000 [00:12<11:43, 13.97it/s, episode_reward=82, running_reward=149] "
          ]
        },
        {
          "output_type": "stream",
          "name": "stdout",
          "text": [
            "Solved at episode 173: average reward: 146.59!\n",
            "Solved at episode 174: average reward: 146.55!\n",
            "Solved at episode 175: average reward: 146.87!\n",
            "Solved at episode 176: average reward: 148.03!\n",
            "Solved at episode 177: average reward: 148.07!\n"
          ]
        },
        {
          "output_type": "stream",
          "name": "stderr",
          "text": [
            "  2%|▏         | 181/10000 [00:12<10:14, 15.97it/s, episode_reward=78, running_reward=151] "
          ]
        },
        {
          "output_type": "stream",
          "name": "stdout",
          "text": [
            "Solved at episode 178: average reward: 148.67!\n",
            "Solved at episode 179: average reward: 148.90!\n",
            "Solved at episode 180: average reward: 149.88!\n",
            "Solved at episode 181: average reward: 150.65!\n",
            "Solved at episode 182: average reward: 151.18!\n"
          ]
        },
        {
          "output_type": "stream",
          "name": "stderr",
          "text": [
            "  2%|▏         | 187/10000 [00:12<08:42, 18.78it/s, episode_reward=29, running_reward=150]"
          ]
        },
        {
          "output_type": "stream",
          "name": "stdout",
          "text": [
            "Solved at episode 183: average reward: 151.73!\n",
            "Solved at episode 184: average reward: 152.10!\n",
            "Solved at episode 185: average reward: 152.44!\n",
            "Solved at episode 186: average reward: 150.61!\n",
            "Solved at episode 187: average reward: 149.94!\n"
          ]
        },
        {
          "output_type": "stream",
          "name": "stderr",
          "text": [
            "  2%|▏         | 190/10000 [00:13<08:34, 19.06it/s, episode_reward=233, running_reward=153]"
          ]
        },
        {
          "output_type": "stream",
          "name": "stdout",
          "text": [
            "Solved at episode 188: average reward: 150.61!\n",
            "Solved at episode 189: average reward: 151.75!\n",
            "Solved at episode 190: average reward: 152.74!\n"
          ]
        },
        {
          "output_type": "stream",
          "name": "stderr",
          "text": [
            "  2%|▏         | 195/10000 [00:13<09:05, 17.96it/s, episode_reward=93, running_reward=152]"
          ]
        },
        {
          "output_type": "stream",
          "name": "stdout",
          "text": [
            "Solved at episode 191: average reward: 152.94!\n",
            "Solved at episode 192: average reward: 151.76!\n",
            "Solved at episode 193: average reward: 151.85!\n",
            "Solved at episode 194: average reward: 151.61!\n"
          ]
        },
        {
          "output_type": "stream",
          "name": "stderr",
          "text": [
            "  2%|▏         | 199/10000 [00:13<10:13, 15.98it/s, episode_reward=97, running_reward=156]"
          ]
        },
        {
          "output_type": "stream",
          "name": "stdout",
          "text": [
            "Solved at episode 195: average reward: 153.60!\n",
            "Solved at episode 196: average reward: 154.62!\n",
            "Solved at episode 197: average reward: 155.20!\n",
            "Solved at episode 198: average reward: 155.69!\n"
          ]
        },
        {
          "output_type": "stream",
          "name": "stderr",
          "text": [
            "  2%|▏         | 201/10000 [00:13<10:30, 15.54it/s, episode_reward=107, running_reward=160]"
          ]
        },
        {
          "output_type": "stream",
          "name": "stdout",
          "text": [
            "Solved at episode 199: average reward: 156.61!\n",
            "Solved at episode 200: average reward: 158.00!\n",
            "Solved at episode 201: average reward: 159.03!\n"
          ]
        },
        {
          "output_type": "stream",
          "name": "stderr",
          "text": [
            "  2%|▏         | 206/10000 [00:14<09:44, 16.76it/s, episode_reward=76, running_reward=161] "
          ]
        },
        {
          "output_type": "stream",
          "name": "stdout",
          "text": [
            "Solved at episode 202: average reward: 159.65!\n",
            "Solved at episode 203: average reward: 160.17!\n",
            "Solved at episode 204: average reward: 160.26!\n",
            "Solved at episode 205: average reward: 161.12!\n",
            "Solved at episode 206: average reward: 161.36!\n"
          ]
        },
        {
          "output_type": "stream",
          "name": "stderr",
          "text": [
            "  2%|▏         | 212/10000 [00:14<07:59, 20.43it/s, episode_reward=72, running_reward=163]"
          ]
        },
        {
          "output_type": "stream",
          "name": "stdout",
          "text": [
            "Solved at episode 207: average reward: 161.08!\n",
            "Solved at episode 208: average reward: 161.68!\n",
            "Solved at episode 209: average reward: 162.18!\n",
            "Solved at episode 210: average reward: 162.44!\n",
            "Solved at episode 211: average reward: 162.94!\n"
          ]
        },
        {
          "output_type": "stream",
          "name": "stderr",
          "text": [
            "  2%|▏         | 215/10000 [00:14<08:31, 19.14it/s, episode_reward=68, running_reward=163] "
          ]
        },
        {
          "output_type": "stream",
          "name": "stdout",
          "text": [
            "Solved at episode 212: average reward: 163.16!\n",
            "Solved at episode 213: average reward: 162.67!\n",
            "Solved at episode 214: average reward: 162.97!\n",
            "Solved at episode 215: average reward: 163.29!\n",
            "Solved at episode 216: average reward: 163.43!\n"
          ]
        },
        {
          "output_type": "stream",
          "name": "stderr",
          "text": [
            "  2%|▏         | 221/10000 [00:14<08:35, 18.96it/s, episode_reward=49, running_reward=166] "
          ]
        },
        {
          "output_type": "stream",
          "name": "stdout",
          "text": [
            "Solved at episode 217: average reward: 164.67!\n",
            "Solved at episode 218: average reward: 165.10!\n",
            "Solved at episode 219: average reward: 165.36!\n",
            "Solved at episode 220: average reward: 165.90!\n",
            "Solved at episode 221: average reward: 165.57!\n"
          ]
        },
        {
          "output_type": "stream",
          "name": "stderr",
          "text": [
            "  2%|▏         | 224/10000 [00:14<08:10, 19.92it/s, episode_reward=121, running_reward=165]"
          ]
        },
        {
          "output_type": "stream",
          "name": "stdout",
          "text": [
            "Solved at episode 222: average reward: 165.22!\n",
            "Solved at episode 223: average reward: 165.10!\n"
          ]
        },
        {
          "output_type": "stream",
          "name": "stderr",
          "text": [
            "  2%|▏         | 227/10000 [00:15<09:57, 16.36it/s, episode_reward=133, running_reward=168]"
          ]
        },
        {
          "output_type": "stream",
          "name": "stdout",
          "text": [
            "Solved at episode 224: average reward: 167.05!\n",
            "Solved at episode 225: average reward: 167.31!\n",
            "Solved at episode 226: average reward: 167.17!\n",
            "Solved at episode 227: average reward: 167.52!\n"
          ]
        },
        {
          "output_type": "stream",
          "name": "stderr",
          "text": [
            "  2%|▏         | 231/10000 [00:15<10:04, 16.16it/s, episode_reward=99, running_reward=168]"
          ]
        },
        {
          "output_type": "stream",
          "name": "stdout",
          "text": [
            "Solved at episode 228: average reward: 168.27!\n",
            "Solved at episode 229: average reward: 168.35!\n",
            "Solved at episode 230: average reward: 167.69!\n"
          ]
        },
        {
          "output_type": "stream",
          "name": "stderr",
          "text": [
            "  2%|▏         | 233/10000 [00:15<11:28, 14.19it/s, episode_reward=105, running_reward=169]"
          ]
        },
        {
          "output_type": "stream",
          "name": "stdout",
          "text": [
            "Solved at episode 231: average reward: 169.09!\n",
            "Solved at episode 232: average reward: 169.17!\n",
            "Solved at episode 233: average reward: 168.80!\n"
          ]
        },
        {
          "output_type": "stream",
          "name": "stderr",
          "text": [
            "  2%|▏         | 235/10000 [00:15<12:00, 13.54it/s, episode_reward=180, running_reward=169]"
          ]
        },
        {
          "output_type": "stream",
          "name": "stdout",
          "text": [
            "Solved at episode 234: average reward: 169.54!\n",
            "Solved at episode 235: average reward: 169.46!\n"
          ]
        },
        {
          "output_type": "stream",
          "name": "stderr",
          "text": [
            "  2%|▏         | 239/10000 [00:16<14:56, 10.89it/s, episode_reward=211, running_reward=172]"
          ]
        },
        {
          "output_type": "stream",
          "name": "stdout",
          "text": [
            "Solved at episode 236: average reward: 171.99!\n",
            "Solved at episode 237: average reward: 172.35!\n",
            "Solved at episode 238: average reward: 172.35!\n"
          ]
        },
        {
          "output_type": "stream",
          "name": "stderr",
          "text": [
            "  2%|▏         | 241/10000 [00:16<18:07,  8.97it/s, episode_reward=342, running_reward=176]"
          ]
        },
        {
          "output_type": "stream",
          "name": "stdout",
          "text": [
            "Solved at episode 239: average reward: 174.48!\n",
            "Solved at episode 240: average reward: 175.60!\n"
          ]
        },
        {
          "output_type": "stream",
          "name": "stderr",
          "text": [
            "  2%|▏         | 243/10000 [00:16<19:06,  8.51it/s, episode_reward=102, running_reward=173]"
          ]
        },
        {
          "output_type": "stream",
          "name": "stdout",
          "text": [
            "Solved at episode 241: average reward: 178.59!\n",
            "Solved at episode 242: average reward: 174.54!\n",
            "Solved at episode 243: average reward: 172.82!\n"
          ]
        },
        {
          "output_type": "stream",
          "name": "stderr",
          "text": [
            "  2%|▏         | 246/10000 [00:17<20:53,  7.78it/s, episode_reward=409, running_reward=174]"
          ]
        },
        {
          "output_type": "stream",
          "name": "stdout",
          "text": [
            "Solved at episode 244: average reward: 171.72!\n",
            "Solved at episode 245: average reward: 173.50!\n"
          ]
        },
        {
          "output_type": "stream",
          "name": "stderr",
          "text": [
            "  2%|▏         | 247/10000 [00:17<23:48,  6.83it/s, episode_reward=474, running_reward=175]"
          ]
        },
        {
          "output_type": "stream",
          "name": "stdout",
          "text": [
            "Solved at episode 246: average reward: 175.42!\n"
          ]
        },
        {
          "output_type": "stream",
          "name": "stderr",
          "text": [
            "  2%|▏         | 248/10000 [00:17<27:55,  5.82it/s, episode_reward=86, running_reward=178] "
          ]
        },
        {
          "output_type": "stream",
          "name": "stdout",
          "text": [
            "Solved at episode 247: average reward: 178.46!\n",
            "Solved at episode 248: average reward: 177.81!\n"
          ]
        },
        {
          "output_type": "stream",
          "name": "stderr",
          "text": [
            "  2%|▎         | 250/10000 [00:18<27:18,  5.95it/s, episode_reward=449, running_reward=181]"
          ]
        },
        {
          "output_type": "stream",
          "name": "stdout",
          "text": [
            "Solved at episode 249: average reward: 180.77!\n"
          ]
        },
        {
          "output_type": "stream",
          "name": "stderr",
          "text": [
            "  3%|▎         | 251/10000 [00:18<31:12,  5.21it/s, episode_reward=500, running_reward=184]"
          ]
        },
        {
          "output_type": "stream",
          "name": "stdout",
          "text": [
            "Solved at episode 250: average reward: 183.98!\n"
          ]
        },
        {
          "output_type": "stream",
          "name": "stderr",
          "text": [
            "  3%|▎         | 252/10000 [00:18<34:35,  4.70it/s, episode_reward=500, running_reward=187]"
          ]
        },
        {
          "output_type": "stream",
          "name": "stdout",
          "text": [
            "Solved at episode 251: average reward: 187.41!\n"
          ]
        },
        {
          "output_type": "stream",
          "name": "stderr",
          "text": [
            "  3%|▎         | 253/10000 [00:18<37:07,  4.38it/s, episode_reward=500, running_reward=190]"
          ]
        },
        {
          "output_type": "stream",
          "name": "stdout",
          "text": [
            "Solved at episode 252: average reward: 190.14!\n"
          ]
        },
        {
          "output_type": "stream",
          "name": "stderr",
          "text": [
            "  3%|▎         | 254/10000 [00:19<39:34,  4.10it/s, episode_reward=500, running_reward=190]"
          ]
        },
        {
          "output_type": "stream",
          "name": "stdout",
          "text": [
            "Solved at episode 253: average reward: 190.28!\n"
          ]
        },
        {
          "output_type": "stream",
          "name": "stderr",
          "text": [
            "  3%|▎         | 255/10000 [00:19<40:08,  4.05it/s, episode_reward=500, running_reward=190]"
          ]
        },
        {
          "output_type": "stream",
          "name": "stdout",
          "text": [
            "Solved at episode 254: average reward: 190.28!\n"
          ]
        },
        {
          "output_type": "stream",
          "name": "stderr",
          "text": [
            "  3%|▎         | 256/10000 [00:19<42:26,  3.83it/s, episode_reward=500, running_reward=194]"
          ]
        },
        {
          "output_type": "stream",
          "name": "stdout",
          "text": [
            "Solved at episode 255: average reward: 193.93!\n"
          ]
        },
        {
          "output_type": "stream",
          "name": "stderr",
          "text": [
            "  3%|▎         | 257/10000 [00:20<45:28,  3.57it/s, episode_reward=500, running_reward=197]"
          ]
        },
        {
          "output_type": "stream",
          "name": "stdout",
          "text": [
            "Solved at episode 256: average reward: 196.54!\n"
          ]
        },
        {
          "output_type": "stream",
          "name": "stderr",
          "text": [
            "  3%|▎         | 258/10000 [00:20<47:42,  3.40it/s, episode_reward=500, running_reward=197]"
          ]
        },
        {
          "output_type": "stream",
          "name": "stdout",
          "text": [
            "Solved at episode 257: average reward: 196.54!\n"
          ]
        },
        {
          "output_type": "stream",
          "name": "stderr",
          "text": [
            "  3%|▎         | 259/10000 [00:20<48:03,  3.38it/s, episode_reward=500, running_reward=200]"
          ]
        },
        {
          "output_type": "stream",
          "name": "stdout",
          "text": [
            "Solved at episode 258: average reward: 200.08!\n"
          ]
        },
        {
          "output_type": "stream",
          "name": "stderr",
          "text": [
            "  3%|▎         | 260/10000 [00:21<48:19,  3.36it/s, episode_reward=500, running_reward=203]"
          ]
        },
        {
          "output_type": "stream",
          "name": "stdout",
          "text": [
            "Solved at episode 259: average reward: 202.84!\n"
          ]
        },
        {
          "output_type": "stream",
          "name": "stderr",
          "text": [
            "  3%|▎         | 261/10000 [00:21<50:43,  3.20it/s, episode_reward=500, running_reward=207]"
          ]
        },
        {
          "output_type": "stream",
          "name": "stdout",
          "text": [
            "Solved at episode 260: average reward: 206.97!\n"
          ]
        },
        {
          "output_type": "stream",
          "name": "stderr",
          "text": [
            "  3%|▎         | 262/10000 [00:21<47:40,  3.40it/s, episode_reward=500, running_reward=207]"
          ]
        },
        {
          "output_type": "stream",
          "name": "stdout",
          "text": [
            "Solved at episode 261: average reward: 207.01!\n"
          ]
        },
        {
          "output_type": "stream",
          "name": "stderr",
          "text": [
            "  3%|▎         | 263/10000 [00:21<43:52,  3.70it/s, episode_reward=500, running_reward=211]"
          ]
        },
        {
          "output_type": "stream",
          "name": "stdout",
          "text": [
            "Solved at episode 262: average reward: 211.10!\n"
          ]
        },
        {
          "output_type": "stream",
          "name": "stderr",
          "text": [
            "  3%|▎         | 264/10000 [00:22<41:47,  3.88it/s, episode_reward=500, running_reward=212]"
          ]
        },
        {
          "output_type": "stream",
          "name": "stdout",
          "text": [
            "Solved at episode 263: average reward: 212.09!\n"
          ]
        },
        {
          "output_type": "stream",
          "name": "stderr",
          "text": [
            "  3%|▎         | 265/10000 [00:22<40:11,  4.04it/s, episode_reward=500, running_reward=213]"
          ]
        },
        {
          "output_type": "stream",
          "name": "stdout",
          "text": [
            "Solved at episode 264: average reward: 212.54!\n"
          ]
        },
        {
          "output_type": "stream",
          "name": "stderr",
          "text": [
            "  3%|▎         | 266/10000 [00:22<38:41,  4.19it/s, episode_reward=500, running_reward=213]"
          ]
        },
        {
          "output_type": "stream",
          "name": "stdout",
          "text": [
            "Solved at episode 265: average reward: 212.54!\n"
          ]
        },
        {
          "output_type": "stream",
          "name": "stderr",
          "text": [
            "  3%|▎         | 267/10000 [00:22<37:32,  4.32it/s, episode_reward=500, running_reward=216]"
          ]
        },
        {
          "output_type": "stream",
          "name": "stdout",
          "text": [
            "Solved at episode 266: average reward: 215.72!\n"
          ]
        },
        {
          "output_type": "stream",
          "name": "stderr",
          "text": [
            "  3%|▎         | 268/10000 [00:22<36:15,  4.47it/s, episode_reward=500, running_reward=216]"
          ]
        },
        {
          "output_type": "stream",
          "name": "stdout",
          "text": [
            "Solved at episode 267: average reward: 215.72!\n"
          ]
        },
        {
          "output_type": "stream",
          "name": "stderr",
          "text": [
            "  3%|▎         | 269/10000 [00:23<36:40,  4.42it/s, episode_reward=500, running_reward=217]"
          ]
        },
        {
          "output_type": "stream",
          "name": "stdout",
          "text": [
            "Solved at episode 268: average reward: 217.34!\n"
          ]
        },
        {
          "output_type": "stream",
          "name": "stderr",
          "text": [
            "  3%|▎         | 270/10000 [00:23<36:26,  4.45it/s, episode_reward=500, running_reward=221]"
          ]
        },
        {
          "output_type": "stream",
          "name": "stdout",
          "text": [
            "Solved at episode 269: average reward: 220.90!\n"
          ]
        },
        {
          "output_type": "stream",
          "name": "stderr",
          "text": [
            "  3%|▎         | 271/10000 [00:23<36:05,  4.49it/s, episode_reward=500, running_reward=226]"
          ]
        },
        {
          "output_type": "stream",
          "name": "stdout",
          "text": [
            "Solved at episode 270: average reward: 225.67!\n"
          ]
        },
        {
          "output_type": "stream",
          "name": "stderr",
          "text": [
            "  3%|▎         | 272/10000 [00:23<35:39,  4.55it/s, episode_reward=500, running_reward=227]"
          ]
        },
        {
          "output_type": "stream",
          "name": "stdout",
          "text": [
            "Solved at episode 271: average reward: 227.15!\n"
          ]
        },
        {
          "output_type": "stream",
          "name": "stderr",
          "text": [
            "  3%|▎         | 273/10000 [00:24<35:31,  4.56it/s, episode_reward=500, running_reward=232]"
          ]
        },
        {
          "output_type": "stream",
          "name": "stdout",
          "text": [
            "Solved at episode 272: average reward: 231.94!\n"
          ]
        },
        {
          "output_type": "stream",
          "name": "stderr",
          "text": [
            "  3%|▎         | 274/10000 [00:24<35:43,  4.54it/s, episode_reward=500, running_reward=237]"
          ]
        },
        {
          "output_type": "stream",
          "name": "stdout",
          "text": [
            "Solved at episode 273: average reward: 236.58!\n"
          ]
        },
        {
          "output_type": "stream",
          "name": "stderr",
          "text": [
            "  3%|▎         | 275/10000 [00:24<36:01,  4.50it/s, episode_reward=500, running_reward=241]"
          ]
        },
        {
          "output_type": "stream",
          "name": "stdout",
          "text": [
            "Solved at episode 274: average reward: 241.30!\n"
          ]
        },
        {
          "output_type": "stream",
          "name": "stderr",
          "text": [
            "  3%|▎         | 276/10000 [00:24<35:51,  4.52it/s, episode_reward=500, running_reward=245]"
          ]
        },
        {
          "output_type": "stream",
          "name": "stdout",
          "text": [
            "Solved at episode 275: average reward: 245.42!\n"
          ]
        },
        {
          "output_type": "stream",
          "name": "stderr",
          "text": [
            "  3%|▎         | 277/10000 [00:24<35:40,  4.54it/s, episode_reward=500, running_reward=249]"
          ]
        },
        {
          "output_type": "stream",
          "name": "stdout",
          "text": [
            "Solved at episode 276: average reward: 249.05!\n"
          ]
        },
        {
          "output_type": "stream",
          "name": "stderr",
          "text": [
            "  3%|▎         | 278/10000 [00:25<36:10,  4.48it/s, episode_reward=500, running_reward=253]"
          ]
        },
        {
          "output_type": "stream",
          "name": "stdout",
          "text": [
            "Solved at episode 277: average reward: 252.76!\n"
          ]
        },
        {
          "output_type": "stream",
          "name": "stderr",
          "text": [
            "  3%|▎         | 279/10000 [00:25<36:58,  4.38it/s, episode_reward=500, running_reward=257]"
          ]
        },
        {
          "output_type": "stream",
          "name": "stdout",
          "text": [
            "Solved at episode 278: average reward: 256.94!\n"
          ]
        },
        {
          "output_type": "stream",
          "name": "stderr",
          "text": [
            "  3%|▎         | 280/10000 [00:25<36:14,  4.47it/s, episode_reward=500, running_reward=261]"
          ]
        },
        {
          "output_type": "stream",
          "name": "stdout",
          "text": [
            "Solved at episode 279: average reward: 261.34!\n"
          ]
        },
        {
          "output_type": "stream",
          "name": "stderr",
          "text": [
            "  3%|▎         | 281/10000 [00:25<35:40,  4.54it/s, episode_reward=500, running_reward=265]"
          ]
        },
        {
          "output_type": "stream",
          "name": "stdout",
          "text": [
            "Solved at episode 280: average reward: 265.11!\n"
          ]
        },
        {
          "output_type": "stream",
          "name": "stderr",
          "text": [
            "  3%|▎         | 282/10000 [00:26<35:05,  4.61it/s, episode_reward=500, running_reward=269]"
          ]
        },
        {
          "output_type": "stream",
          "name": "stdout",
          "text": [
            "Solved at episode 281: average reward: 269.10!\n"
          ]
        },
        {
          "output_type": "stream",
          "name": "stderr",
          "text": [
            "  3%|▎         | 283/10000 [00:26<35:50,  4.52it/s, episode_reward=500, running_reward=273]"
          ]
        },
        {
          "output_type": "stream",
          "name": "stdout",
          "text": [
            "Solved at episode 282: average reward: 273.32!\n"
          ]
        },
        {
          "output_type": "stream",
          "name": "stderr",
          "text": [
            "  3%|▎         | 284/10000 [00:26<35:57,  4.50it/s, episode_reward=500, running_reward=277]"
          ]
        },
        {
          "output_type": "stream",
          "name": "stdout",
          "text": [
            "Solved at episode 283: average reward: 277.20!\n"
          ]
        },
        {
          "output_type": "stream",
          "name": "stderr",
          "text": [
            "  3%|▎         | 285/10000 [00:26<36:06,  4.48it/s, episode_reward=500, running_reward=281]"
          ]
        },
        {
          "output_type": "stream",
          "name": "stdout",
          "text": [
            "Solved at episode 284: average reward: 281.40!\n"
          ]
        },
        {
          "output_type": "stream",
          "name": "stderr",
          "text": [
            "  3%|▎         | 286/10000 [00:26<35:44,  4.53it/s, episode_reward=500, running_reward=286]"
          ]
        },
        {
          "output_type": "stream",
          "name": "stdout",
          "text": [
            "Solved at episode 285: average reward: 285.64!\n"
          ]
        },
        {
          "output_type": "stream",
          "name": "stderr",
          "text": [
            "  3%|▎         | 287/10000 [00:27<36:31,  4.43it/s, episode_reward=500, running_reward=290]"
          ]
        },
        {
          "output_type": "stream",
          "name": "stdout",
          "text": [
            "Solved at episode 286: average reward: 289.96!\n"
          ]
        },
        {
          "output_type": "stream",
          "name": "stderr",
          "text": [
            "  3%|▎         | 288/10000 [00:27<36:11,  4.47it/s, episode_reward=500, running_reward=295]"
          ]
        },
        {
          "output_type": "stream",
          "name": "stdout",
          "text": [
            "Solved at episode 287: average reward: 294.67!\n"
          ]
        },
        {
          "output_type": "stream",
          "name": "stderr",
          "text": [
            "  3%|▎         | 289/10000 [00:27<35:55,  4.51it/s, episode_reward=500, running_reward=299]"
          ]
        },
        {
          "output_type": "stream",
          "name": "stdout",
          "text": [
            "Solved at episode 288: average reward: 298.51!\n"
          ]
        },
        {
          "output_type": "stream",
          "name": "stderr",
          "text": [
            "  3%|▎         | 290/10000 [00:27<35:45,  4.53it/s, episode_reward=500, running_reward=302]"
          ]
        },
        {
          "output_type": "stream",
          "name": "stdout",
          "text": [
            "Solved at episode 289: average reward: 301.86!\n"
          ]
        },
        {
          "output_type": "stream",
          "name": "stderr",
          "text": [
            "  3%|▎         | 291/10000 [00:28<35:33,  4.55it/s, episode_reward=500, running_reward=305]"
          ]
        },
        {
          "output_type": "stream",
          "name": "stdout",
          "text": [
            "Solved at episode 290: average reward: 304.53!\n"
          ]
        },
        {
          "output_type": "stream",
          "name": "stderr",
          "text": [
            "  3%|▎         | 292/10000 [00:28<35:56,  4.50it/s, episode_reward=500, running_reward=309]"
          ]
        },
        {
          "output_type": "stream",
          "name": "stdout",
          "text": [
            "Solved at episode 291: average reward: 308.97!\n"
          ]
        },
        {
          "output_type": "stream",
          "name": "stderr",
          "text": [
            "  3%|▎         | 293/10000 [00:28<36:03,  4.49it/s, episode_reward=500, running_reward=313]"
          ]
        },
        {
          "output_type": "stream",
          "name": "stdout",
          "text": [
            "Solved at episode 292: average reward: 313.25!\n"
          ]
        },
        {
          "output_type": "stream",
          "name": "stderr",
          "text": [
            "  3%|▎         | 294/10000 [00:28<36:14,  4.46it/s, episode_reward=500, running_reward=317]"
          ]
        },
        {
          "output_type": "stream",
          "name": "stdout",
          "text": [
            "Solved at episode 293: average reward: 317.07!\n"
          ]
        },
        {
          "output_type": "stream",
          "name": "stderr",
          "text": [
            "  3%|▎         | 295/10000 [00:28<35:56,  4.50it/s, episode_reward=500, running_reward=321]"
          ]
        },
        {
          "output_type": "stream",
          "name": "stdout",
          "text": [
            "Solved at episode 294: average reward: 321.14!\n"
          ]
        },
        {
          "output_type": "stream",
          "name": "stderr",
          "text": [
            "  3%|▎         | 296/10000 [00:29<36:10,  4.47it/s, episode_reward=500, running_reward=324]"
          ]
        },
        {
          "output_type": "stream",
          "name": "stdout",
          "text": [
            "Solved at episode 295: average reward: 323.93!\n"
          ]
        },
        {
          "output_type": "stream",
          "name": "stderr",
          "text": [
            "  3%|▎         | 297/10000 [00:29<35:25,  4.56it/s, episode_reward=500, running_reward=327]"
          ]
        },
        {
          "output_type": "stream",
          "name": "stdout",
          "text": [
            "Solved at episode 296: average reward: 327.24!\n"
          ]
        },
        {
          "output_type": "stream",
          "name": "stderr",
          "text": [
            "  3%|▎         | 298/10000 [00:29<35:58,  4.50it/s, episode_reward=500, running_reward=331]"
          ]
        },
        {
          "output_type": "stream",
          "name": "stdout",
          "text": [
            "Solved at episode 297: average reward: 330.82!\n"
          ]
        },
        {
          "output_type": "stream",
          "name": "stderr",
          "text": [
            "  3%|▎         | 299/10000 [00:29<35:56,  4.50it/s, episode_reward=500, running_reward=335]"
          ]
        },
        {
          "output_type": "stream",
          "name": "stdout",
          "text": [
            "Solved at episode 298: average reward: 334.85!\n"
          ]
        },
        {
          "output_type": "stream",
          "name": "stderr",
          "text": [
            "  3%|▎         | 300/10000 [00:30<35:20,  4.58it/s, episode_reward=500, running_reward=339]"
          ]
        },
        {
          "output_type": "stream",
          "name": "stdout",
          "text": [
            "Solved at episode 299: average reward: 338.67!\n"
          ]
        },
        {
          "output_type": "stream",
          "name": "stderr",
          "text": [
            "  3%|▎         | 301/10000 [00:30<36:08,  4.47it/s, episode_reward=500, running_reward=342]"
          ]
        },
        {
          "output_type": "stream",
          "name": "stdout",
          "text": [
            "Solved at episode 300: average reward: 341.95!\n"
          ]
        },
        {
          "output_type": "stream",
          "name": "stderr",
          "text": [
            "  3%|▎         | 302/10000 [00:30<35:56,  4.50it/s, episode_reward=500, running_reward=346]"
          ]
        },
        {
          "output_type": "stream",
          "name": "stdout",
          "text": [
            "Solved at episode 301: average reward: 345.59!\n"
          ]
        },
        {
          "output_type": "stream",
          "name": "stderr",
          "text": [
            "  3%|▎         | 303/10000 [00:30<36:04,  4.48it/s, episode_reward=500, running_reward=350]"
          ]
        },
        {
          "output_type": "stream",
          "name": "stdout",
          "text": [
            "Solved at episode 302: average reward: 349.52!\n"
          ]
        },
        {
          "output_type": "stream",
          "name": "stderr",
          "text": [
            "  3%|▎         | 304/10000 [00:30<35:36,  4.54it/s, episode_reward=500, running_reward=354]"
          ]
        },
        {
          "output_type": "stream",
          "name": "stdout",
          "text": [
            "Solved at episode 303: average reward: 353.57!\n"
          ]
        },
        {
          "output_type": "stream",
          "name": "stderr",
          "text": [
            "  3%|▎         | 305/10000 [00:31<36:07,  4.47it/s, episode_reward=500, running_reward=358]"
          ]
        },
        {
          "output_type": "stream",
          "name": "stdout",
          "text": [
            "Solved at episode 304: average reward: 357.67!\n"
          ]
        },
        {
          "output_type": "stream",
          "name": "stderr",
          "text": [
            "  3%|▎         | 306/10000 [00:31<35:36,  4.54it/s, episode_reward=500, running_reward=361]"
          ]
        },
        {
          "output_type": "stream",
          "name": "stdout",
          "text": [
            "Solved at episode 305: average reward: 361.41!\n"
          ]
        },
        {
          "output_type": "stream",
          "name": "stderr",
          "text": [
            "  3%|▎         | 307/10000 [00:31<37:35,  4.30it/s, episode_reward=500, running_reward=366]"
          ]
        },
        {
          "output_type": "stream",
          "name": "stdout",
          "text": [
            "Solved at episode 306: average reward: 365.65!\n"
          ]
        },
        {
          "output_type": "stream",
          "name": "stderr",
          "text": [
            "  3%|▎         | 308/10000 [00:31<40:59,  3.94it/s, episode_reward=500, running_reward=370]"
          ]
        },
        {
          "output_type": "stream",
          "name": "stdout",
          "text": [
            "Solved at episode 307: average reward: 369.94!\n"
          ]
        },
        {
          "output_type": "stream",
          "name": "stderr",
          "text": [
            "  3%|▎         | 309/10000 [00:32<43:12,  3.74it/s, episode_reward=500, running_reward=374]"
          ]
        },
        {
          "output_type": "stream",
          "name": "stdout",
          "text": [
            "Solved at episode 308: average reward: 374.13!\n"
          ]
        },
        {
          "output_type": "stream",
          "name": "stderr",
          "text": [
            "  3%|▎         | 310/10000 [00:32<43:13,  3.74it/s, episode_reward=500, running_reward=378]"
          ]
        },
        {
          "output_type": "stream",
          "name": "stdout",
          "text": [
            "Solved at episode 309: average reward: 378.34!\n"
          ]
        },
        {
          "output_type": "stream",
          "name": "stderr",
          "text": [
            "  3%|▎         | 311/10000 [00:32<44:14,  3.65it/s, episode_reward=500, running_reward=383]"
          ]
        },
        {
          "output_type": "stream",
          "name": "stdout",
          "text": [
            "Solved at episode 310: average reward: 382.73!\n"
          ]
        },
        {
          "output_type": "stream",
          "name": "stderr",
          "text": [
            "  3%|▎         | 312/10000 [00:33<43:49,  3.68it/s, episode_reward=500, running_reward=387]"
          ]
        },
        {
          "output_type": "stream",
          "name": "stdout",
          "text": [
            "Solved at episode 311: average reward: 387.01!\n"
          ]
        },
        {
          "output_type": "stream",
          "name": "stderr",
          "text": [
            "  3%|▎         | 313/10000 [00:33<44:09,  3.66it/s, episode_reward=500, running_reward=391]"
          ]
        },
        {
          "output_type": "stream",
          "name": "stdout",
          "text": [
            "Solved at episode 312: average reward: 390.63!\n"
          ]
        },
        {
          "output_type": "stream",
          "name": "stderr",
          "text": [
            "  3%|▎         | 314/10000 [00:33<47:18,  3.41it/s, episode_reward=500, running_reward=395]"
          ]
        },
        {
          "output_type": "stream",
          "name": "stdout",
          "text": [
            "Solved at episode 313: average reward: 394.92!\n"
          ]
        },
        {
          "output_type": "stream",
          "name": "stderr",
          "text": [
            "  3%|▎         | 315/10000 [00:33<46:54,  3.44it/s, episode_reward=500, running_reward=398]"
          ]
        },
        {
          "output_type": "stream",
          "name": "stdout",
          "text": [
            "Solved at episode 314: average reward: 398.42!\n"
          ]
        },
        {
          "output_type": "stream",
          "name": "stderr",
          "text": [
            "  3%|▎         | 316/10000 [00:34<48:16,  3.34it/s, episode_reward=500, running_reward=402]"
          ]
        },
        {
          "output_type": "stream",
          "name": "stdout",
          "text": [
            "Solved at episode 315: average reward: 402.24!\n"
          ]
        },
        {
          "output_type": "stream",
          "name": "stderr",
          "text": [
            "  3%|▎         | 317/10000 [00:34<48:47,  3.31it/s, episode_reward=500, running_reward=407]"
          ]
        },
        {
          "output_type": "stream",
          "name": "stdout",
          "text": [
            "Solved at episode 316: average reward: 406.56!\n"
          ]
        },
        {
          "output_type": "stream",
          "name": "stderr",
          "text": [
            "  3%|▎         | 318/10000 [00:34<49:35,  3.25it/s, episode_reward=500, running_reward=410]"
          ]
        },
        {
          "output_type": "stream",
          "name": "stdout",
          "text": [
            "Solved at episode 317: average reward: 409.87!\n"
          ]
        },
        {
          "output_type": "stream",
          "name": "stderr",
          "text": [
            "  3%|▎         | 319/10000 [00:35<51:35,  3.13it/s, episode_reward=500, running_reward=414]"
          ]
        },
        {
          "output_type": "stream",
          "name": "stdout",
          "text": [
            "Solved at episode 318: average reward: 414.08!\n"
          ]
        },
        {
          "output_type": "stream",
          "name": "stderr",
          "text": [
            "  3%|▎         | 320/10000 [00:35<48:45,  3.31it/s, episode_reward=500, running_reward=418]"
          ]
        },
        {
          "output_type": "stream",
          "name": "stdout",
          "text": [
            "Solved at episode 319: average reward: 418.31!\n"
          ]
        },
        {
          "output_type": "stream",
          "name": "stderr",
          "text": [
            "  3%|▎         | 321/10000 [00:35<44:57,  3.59it/s, episode_reward=500, running_reward=422]"
          ]
        },
        {
          "output_type": "stream",
          "name": "stdout",
          "text": [
            "Solved at episode 320: average reward: 421.94!\n"
          ]
        },
        {
          "output_type": "stream",
          "name": "stderr",
          "text": [
            "  3%|▎         | 322/10000 [00:35<42:11,  3.82it/s, episode_reward=500, running_reward=426]"
          ]
        },
        {
          "output_type": "stream",
          "name": "stdout",
          "text": [
            "Solved at episode 321: average reward: 426.45!\n"
          ]
        },
        {
          "output_type": "stream",
          "name": "stderr",
          "text": [
            "  3%|▎         | 323/10000 [00:36<40:27,  3.99it/s, episode_reward=500, running_reward=431]"
          ]
        },
        {
          "output_type": "stream",
          "name": "stdout",
          "text": [
            "Solved at episode 322: average reward: 430.80!\n"
          ]
        },
        {
          "output_type": "stream",
          "name": "stderr",
          "text": [
            "  3%|▎         | 324/10000 [00:36<38:30,  4.19it/s, episode_reward=500, running_reward=435]"
          ]
        },
        {
          "output_type": "stream",
          "name": "stdout",
          "text": [
            "Solved at episode 323: average reward: 434.59!\n"
          ]
        },
        {
          "output_type": "stream",
          "name": "stderr",
          "text": [
            "  3%|▎         | 325/10000 [00:36<37:17,  4.32it/s, episode_reward=500, running_reward=436]"
          ]
        },
        {
          "output_type": "stream",
          "name": "stdout",
          "text": [
            "Solved at episode 324: average reward: 436.21!\n"
          ]
        },
        {
          "output_type": "stream",
          "name": "stderr",
          "text": [
            "  3%|▎         | 326/10000 [00:36<37:10,  4.34it/s, episode_reward=500, running_reward=440]"
          ]
        },
        {
          "output_type": "stream",
          "name": "stdout",
          "text": [
            "Solved at episode 325: average reward: 440.12!\n"
          ]
        },
        {
          "output_type": "stream",
          "name": "stderr",
          "text": [
            "  3%|▎         | 327/10000 [00:37<36:47,  4.38it/s, episode_reward=500, running_reward=444]"
          ]
        },
        {
          "output_type": "stream",
          "name": "stdout",
          "text": [
            "Solved at episode 326: average reward: 444.41!\n"
          ]
        },
        {
          "output_type": "stream",
          "name": "stderr",
          "text": [
            "  3%|▎         | 328/10000 [00:37<36:08,  4.46it/s, episode_reward=500, running_reward=448]"
          ]
        },
        {
          "output_type": "stream",
          "name": "stdout",
          "text": [
            "Solved at episode 327: average reward: 448.08!\n"
          ]
        },
        {
          "output_type": "stream",
          "name": "stderr",
          "text": [
            "  3%|▎         | 329/10000 [00:37<35:58,  4.48it/s, episode_reward=500, running_reward=451]"
          ]
        },
        {
          "output_type": "stream",
          "name": "stdout",
          "text": [
            "Solved at episode 328: average reward: 451.33!\n"
          ]
        },
        {
          "output_type": "stream",
          "name": "stderr",
          "text": [
            "  3%|▎         | 330/10000 [00:37<36:01,  4.47it/s, episode_reward=500, running_reward=455]"
          ]
        },
        {
          "output_type": "stream",
          "name": "stdout",
          "text": [
            "Solved at episode 329: average reward: 455.02!\n"
          ]
        },
        {
          "output_type": "stream",
          "name": "stderr",
          "text": [
            "  3%|▎         | 331/10000 [00:37<36:36,  4.40it/s, episode_reward=500, running_reward=459]"
          ]
        },
        {
          "output_type": "stream",
          "name": "stdout",
          "text": [
            "Solved at episode 330: average reward: 459.03!\n"
          ]
        },
        {
          "output_type": "stream",
          "name": "stderr",
          "text": [
            "  3%|▎         | 332/10000 [00:38<36:09,  4.46it/s, episode_reward=500, running_reward=461]"
          ]
        },
        {
          "output_type": "stream",
          "name": "stdout",
          "text": [
            "Solved at episode 331: average reward: 461.36!\n"
          ]
        },
        {
          "output_type": "stream",
          "name": "stderr",
          "text": [
            "  3%|▎         | 333/10000 [00:38<36:00,  4.48it/s, episode_reward=500, running_reward=465]"
          ]
        },
        {
          "output_type": "stream",
          "name": "stdout",
          "text": [
            "Solved at episode 332: average reward: 464.76!\n"
          ]
        },
        {
          "output_type": "stream",
          "name": "stderr",
          "text": [
            "  3%|▎         | 334/10000 [00:38<35:22,  4.55it/s, episode_reward=500, running_reward=469]"
          ]
        },
        {
          "output_type": "stream",
          "name": "stdout",
          "text": [
            "Solved at episode 333: average reward: 468.71!\n"
          ]
        },
        {
          "output_type": "stream",
          "name": "stderr",
          "text": [
            "  3%|▎         | 335/10000 [00:38<35:40,  4.51it/s, episode_reward=500, running_reward=471]"
          ]
        },
        {
          "output_type": "stream",
          "name": "stdout",
          "text": [
            "Solved at episode 334: average reward: 471.21!\n"
          ]
        },
        {
          "output_type": "stream",
          "name": "stderr",
          "text": [
            "  3%|▎         | 336/10000 [00:39<36:13,  4.45it/s, episode_reward=500, running_reward=474]"
          ]
        },
        {
          "output_type": "stream",
          "name": "stdout",
          "text": [
            "Solved at episode 335: average reward: 474.41!\n"
          ]
        },
        {
          "output_type": "stream",
          "name": "stderr",
          "text": [
            "  3%|▎         | 336/10000 [00:39<18:51,  8.54it/s, episode_reward=500, running_reward=476]"
          ]
        },
        {
          "output_type": "stream",
          "name": "stdout",
          "text": [
            "CPU times: user 47.4 s, sys: 1.5 s, total: 48.9 s\n",
            "Wall time: 39.3 s\n"
          ]
        },
        {
          "output_type": "stream",
          "name": "stderr",
          "text": [
            "\n"
          ]
        }
      ]
    },
    {
      "cell_type": "markdown",
      "source": [
        "Visualization of performance"
      ],
      "metadata": {
        "id": "Z1Z9jpdCZcay"
      }
    },
    {
      "cell_type": "code",
      "source": [
        "from IPython import display as ipythondisplay\n",
        "from PIL import Image\n",
        "\n",
        "render_env = gym.make('CartPole-v1', render_mode='rgb_array')\n",
        "\n",
        "def render_episode(env: gym.Env, model: tf.keras.Model, max_steps: int):\n",
        "\n",
        "  state = env.reset()\n",
        "  state = tf.constant(state, dtype=tf.float32)\n",
        "  screen = env.render()\n",
        "  if isinstance(screen, list):\n",
        "    screen = screen[0]\n",
        "\n",
        "  images = [Image.fromarray(screen)]\n",
        "\n",
        "  for i in range(1, max_steps + 1):\n",
        "    state = tf.expand_dims(state, 0)\n",
        "    action_probs, _ = model(state)\n",
        "    action = np.argmax(np.squeeze(action_probs))\n",
        "\n",
        "    state, reward, done, truncated = env.step(action)\n",
        "    state = tf.constant(state, dtype=tf.float32)\n",
        "\n",
        "    if i % 10 == 0:\n",
        "      screen = env.render()\n",
        "      if isinstance(screen, list):\n",
        "          screen = screen[0]\n",
        "      images.append(Image.fromarray(screen))\n",
        "    if done:\n",
        "      break\n",
        "\n",
        "  return images\n",
        "\n",
        "images = render_episode(render_env, model, max_steps_per_episode)\n",
        "image_file = 'cartpole-v1.gif'\n",
        "\n",
        "images[0].save(image_file, save_all=True, append_images=images[1:], loop=0, duration=1)"
      ],
      "metadata": {
        "colab": {
          "base_uri": "https://localhost:8080/"
        },
        "id": "ZIAZcyfycnRM",
        "outputId": "73096412-61ab-4732-fe83-e3b98f4b2a49"
      },
      "execution_count": null,
      "outputs": [
        {
          "output_type": "stream",
          "name": "stderr",
          "text": [
            "/usr/local/lib/python3.10/dist-packages/gym/utils/passive_env_checker.py:241: DeprecationWarning: `np.bool8` is a deprecated alias for `np.bool_`.  (Deprecated NumPy 1.24)\n",
            "  if not isinstance(terminated, (bool, np.bool8)):\n"
          ]
        }
      ]
    },
    {
      "cell_type": "code",
      "source": [
        "import tensorflow_docs.vis.embed as embed\n",
        "embed.embed_file(image_file)"
      ],
      "metadata": {
        "colab": {
          "base_uri": "https://localhost:8080/",
          "height": 422
        },
        "id": "u9zDtytYdZUs",
        "outputId": "e07fed79-7ece-42d9-bcf6-6bab862cc88c"
      },
      "execution_count": null,
      "outputs": [
        {
          "output_type": "execute_result",
          "data": {
            "text/plain": [
              "<IPython.core.display.HTML object>"
            ],
            "text/html": [
              "<img src=\"data:image/gif;base64,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\"/>"
            ]
          },
          "metadata": {},
          "execution_count": 30
        }
      ]
    }
  ]
}